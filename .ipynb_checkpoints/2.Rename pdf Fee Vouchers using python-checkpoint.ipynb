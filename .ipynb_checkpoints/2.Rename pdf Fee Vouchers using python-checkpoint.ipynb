{
 "cells": [
  {
   "cell_type": "code",
   "execution_count": 3,
   "metadata": {},
   "outputs": [],
   "source": [
    "import pandas as pdf\n",
    "import pdfplumber"
   ]
  },
  {
   "cell_type": "code",
   "execution_count": 4,
   "metadata": {},
   "outputs": [],
   "source": [
    "# Read fee voucher content\n",
    "\n",
    "with pdfplumber.open(\"Nov 2020 Fee Voucher Class 1_1.pdf\") as pdf_file:\n",
    "    page_1 = pdf_file.pages[0]  # page 1 is at index 0\n",
    "    text = page_1.extract_text() "
   ]
  },
  {
   "cell_type": "code",
   "execution_count": 5,
   "metadata": {},
   "outputs": [
    {
     "data": {
      "text/plain": [
       "['OFFICE COPY BANK COPY PARENT COPY',\n",
       " 'DAWOOD PUBLIC SCHOOL DAWOOD PUBLIC SCHOOL DAWOOD PUBLIC SCHOOL',\n",
       " 'FEE VOUCHER FEE VOUCHER FEE VOUCHER',\n",
       " 'PAYABLE AT ALL BRANCHES OF PAYABLE AT ALL BRANCHES OF PAYABLE AT ALL BRANCHES OF',\n",
       " 'BANK AL-HABIB BANK AL-HABIB BANK AL-HABIB',\n",
       " 'COLL A/C # 0080-900229-01 COLL A/C # 0080-900229-01 COLL A/C # 0080-900229-01',\n",
       " 'Challan No: 20008813 Date: 02/11/2020 Challan No: 20008813 Date: 02/11/2020 Challan No: 20008813 Date: 02/11/2020',\n",
       " 'Name: AAMNA D /O NAEEM Name: AAMNA D /O NAEEM Name: AAMNA D /O NAEEM',\n",
       " 'Class: I-C Class: I-C Class: I-C',\n",
       " 'GR #: 160002 GR #: 160002 GR #: 160002',\n",
       " 'Fee for: NOVEMBER (2020-21) Fee for: NOVEMBER (2020-21) Fee for: NOVEMBER (2020-21)',\n",
       " 'PARTICULARS AMOUNT PARTICULARS AMOUNT PARTICULARS AMOUNT',\n",
       " 'TUITION FEE  11,632  TUITION FEE  11,632  TUITION FEE  11,632 ',\n",
       " 'FOOD & NUTRITION(INGREDIENTS)*  2,000  FOOD & NUTRITION(INGREDIENTS)*  2,000  FOOD & NUTRITION(INGREDIENTS)*  2,000 ',\n",
       " 'OXFORD READING BANK (ORB) *  699  OXFORD READING BANK (ORB) *  699  OXFORD READING BANK (ORB) *  699 ',\n",
       " 'TOTAL PAYABLE WITHIN DUE DATE: 14,331 TOTAL PAYABLE WITHIN DUE DATE: 14,331 TOTAL PAYABLE WITHIN DUE DATE: 14,331',\n",
       " 'AMOUNT IN WORDS: AMOUNT IN WORDS: AMOUNT IN WORDS:',\n",
       " 'Rupees: Fourteen Thousand Three Hundred  Rupees: Fourteen Thousand Three Hundred  Rupees: Fourteen Thousand Three Hundred ',\n",
       " 'Thirty-One only Thirty-One only Thirty-One only',\n",
       " 'TOTAL PAYABLE AFTER DUE DATE:  15,831 TOTAL PAYABLE AFTER DUE DATE:  15,831 TOTAL PAYABLE AFTER DUE DATE:  15,831',\n",
       " 'AMOUNT IN WORDS: AMOUNT IN WORDS: AMOUNT IN WORDS:',\n",
       " 'Rupees: Fifteen Thousand Eight Hundred  Rupees: Fifteen Thousand Eight Hundred  Rupees: Fifteen Thousand Eight Hundred ',\n",
       " 'Thirty-One only Thirty-One only Thirty-One only',\n",
       " 'DUE DATE: 12/11/2020 DUE DATE: 12/11/2020 DUE DATE: 12/11/2020',\n",
       " '* ONE TIME CHARGES ONLY. * ONE TIME CHARGES ONLY. * ONE TIME CHARGES ONLY.',\n",
       " '- BANK -  - BANK -  - BANK - ',\n",
       " 'STAMP STAMP STAMP',\n",
       " \"These funds are intended for Dawood Public School's Account #  These funds are intended for Dawood Public School's Account #  These funds are intended for Dawood Public School's Account # \",\n",
       " '1007-0980-002961-01-07 held with Bahadurabad, Karachi 1007-0980-002961-01-07 held with Bahadurabad, Karachi 1007-0980-002961-01-07 held with Bahadurabad, Karachi',\n",
       " 'Fee is approved by School Education & Literacy Department,  Fee is approved by School Education & Literacy Department,  Fee is approved by School Education & Literacy Department, ',\n",
       " 'Government of Sindh, vide letter No. DIR/I&R/PIS/SE&LD/GOS/  Government of Sindh, vide letter No. DIR/I&R/PIS/SE&LD/GOS/  Government of Sindh, vide letter No. DIR/I&R/PIS/SE&LD/GOS/ ',\n",
       " '(305-09) /2020 (305-09) /2020 (305-09) /2020',\n",
       " 'DPS is a not-for-profit institution managed by HHMS, a charitable  DPS is a not-for-profit institution managed by HHMS, a charitable  DPS is a not-for-profit institution managed by HHMS, a charitable ',\n",
       " 'society registered under Societies Act 1860.  society registered under Societies Act 1860.  society registered under Societies Act 1860. ']"
      ]
     },
     "execution_count": 5,
     "metadata": {},
     "output_type": "execute_result"
    }
   ],
   "source": [
    "# convert voucher content to list\n",
    "invoice_details = text.split(\"\\n\")\n",
    "invoice_details"
   ]
  },
  {
   "cell_type": "code",
   "execution_count": 6,
   "metadata": {},
   "outputs": [],
   "source": [
    "# extracting challan number from fee voucher data\n",
    "\n",
    "import re\n",
    "\n",
    "pattern = r'^Challan No: (\\d{8})'\n",
    "\n",
    "challan_no = 0\n",
    "for info in invoice_details:\n",
    "    if re.match(pattern,info):\n",
    "        challan = re.findall(pattern, info)\n",
    "        challan_no = int(challan[0])\n",
    "        break  # using break is optional. It is used to break the loop"
   ]
  },
  {
   "cell_type": "code",
   "execution_count": 7,
   "metadata": {},
   "outputs": [
    {
     "data": {
      "text/plain": [
       "20008813"
      ]
     },
     "execution_count": 7,
     "metadata": {},
     "output_type": "execute_result"
    }
   ],
   "source": [
    "challan_no"
   ]
  },
  {
   "cell_type": "code",
   "execution_count": 8,
   "metadata": {},
   "outputs": [
    {
     "name": "stdout",
     "output_type": "stream",
     "text": [
      "['.git', '.ipynb_checkpoints', '1.Extracting pdf data and write text file using pdf data.ipynb', '2.Rename pdf Fee Vouchers using python.ipynb', '3.Writing csv file from pdf file downloading from internet.ipynb', 'apreports.pdf', 'invoice.csv', 'Nov 2020 Fee Voucher Class 1_1.pdf', 'Nov 2020 Fee Voucher Class 1_2.pdf', 'Nov 2020 Fee Voucher Class 1_3.pdf', 'Nov 2020 Fee Voucher Class 1_4.pdf', 'Nov 2020 Fee Voucher Class 1_5.pdf', 'sample.pdf', 'sample.txt']\n"
     ]
    }
   ],
   "source": [
    "# listing all the files in working directory\n",
    "\n",
    "import os\n",
    "\n",
    "path = %pwd\n",
    "\n",
    "files = os.listdir(path)\n",
    "print(files)"
   ]
  },
  {
   "cell_type": "code",
   "execution_count": 9,
   "metadata": {},
   "outputs": [
    {
     "data": {
      "text/plain": [
       "['Nov 2020 Fee Voucher Class 1_1.pdf',\n",
       " 'Nov 2020 Fee Voucher Class 1_2.pdf',\n",
       " 'Nov 2020 Fee Voucher Class 1_3.pdf',\n",
       " 'Nov 2020 Fee Voucher Class 1_4.pdf',\n",
       " 'Nov 2020 Fee Voucher Class 1_5.pdf']"
      ]
     },
     "execution_count": 9,
     "metadata": {},
     "output_type": "execute_result"
    }
   ],
   "source": [
    "# adding fee voucher files in a list\n",
    "\n",
    "pattern = r'^Nov' \n",
    "\n",
    "required_files = []\n",
    "for f in files:\n",
    "    if re.search(pattern, f):  # we can also use str.startswtih()\n",
    "        required_files.append(f)\n",
    "        \n",
    "required_files "
   ]
  },
  {
   "cell_type": "code",
   "execution_count": 18,
   "metadata": {},
   "outputs": [
    {
     "data": {
      "text/plain": [
       "['20008813', '20008836', '20008814', '20008796', '20008795']"
      ]
     },
     "execution_count": 18,
     "metadata": {},
     "output_type": "execute_result"
    }
   ],
   "source": [
    "# Extracting challan numbers from all the fee voucher\n",
    "\n",
    "challan_numbers = []\n",
    "\n",
    "for file in required_files:\n",
    "    with pdfplumber.open(file) as pdf_file:\n",
    "        page_1 = pdf_file.pages[0]  # page 1 is at index 0\n",
    "        text = page_1.extract_text() \n",
    "        invoice_info = text.split(\"\\n\")\n",
    "        pattern = r'^Challan No: (\\d{8})'\n",
    "        for info in invoice_info:\n",
    "            if re.match(pattern,info):\n",
    "                challan = re.findall(pattern, info) # we can also use str.startswtih()\n",
    "                challan = challan[0]\n",
    "                challan_numbers.append(challan)\n",
    "challan_numbers"
   ]
  },
  {
   "cell_type": "code",
   "execution_count": 19,
   "metadata": {},
   "outputs": [],
   "source": [
    "# rename the fee voucher pdf files\n",
    "\n",
    "for c, f in zip(challan_numbers, required_files):\n",
    "    os.rename(f, c+\".pdf\")"
   ]
  },
  {
   "cell_type": "code",
   "execution_count": 20,
   "metadata": {},
   "outputs": [],
   "source": [
    "# restore the previous pdf file name\n",
    "\n",
    "for c, f in zip(challan_numbers, required_files):\n",
    "    os.rename(c+\".pdf\", f)"
   ]
  },
  {
   "cell_type": "code",
   "execution_count": null,
   "metadata": {},
   "outputs": [],
   "source": []
  }
 ],
 "metadata": {
  "kernelspec": {
   "display_name": "Python 3",
   "language": "python",
   "name": "python3"
  },
  "language_info": {
   "codemirror_mode": {
    "name": "ipython",
    "version": 3
   },
   "file_extension": ".py",
   "mimetype": "text/x-python",
   "name": "python",
   "nbconvert_exporter": "python",
   "pygments_lexer": "ipython3",
   "version": "3.7.6"
  }
 },
 "nbformat": 4,
 "nbformat_minor": 4
}
